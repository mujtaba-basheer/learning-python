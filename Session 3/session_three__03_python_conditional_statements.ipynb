{
 "cells": [
  {
   "cell_type": "markdown",
   "metadata": {},
   "source": [
    "# Python Statements - `if`, `else`, and `elif`\n",
    "\n",
    "## Code blocks and identation\n",
    "\n",
    "One of the most distinctive features of Python is its use of indentation to mark blocks of code. \n",
    "\n",
    "Consider the usage of `if` statement (more about `if` later) in the following code snipper:\n"
   ]
  },
  {
   "cell_type": "code",
   "execution_count": 1,
   "metadata": {},
   "outputs": [
    {
     "name": "stdout",
     "output_type": "stream",
     "text": [
      "apple\n",
      "Incorrect password ...\n",
      "All done!\n"
     ]
    }
   ],
   "source": [
    "password = input()\n",
    "if password == 'ou87yaApolKa8910A':\n",
    "    print('Logging in ...')\n",
    "else:\n",
    "    print('Incorrect password ...')\n",
    "print('All done!')"
   ]
  },
  {
   "cell_type": "markdown",
   "metadata": {},
   "source": [
    "The line `print('Logging in ...')` and `print('Incorrect password ...')` are two separate code blocks. These ones happen to be only a single line long, but Python lets you write code blocks consisting of any number of statements.\n",
    "\n",
    "To indicate a block of code in Python, you must indent each line of the block by the same amount. The two blocks of code in our example `if` statement are both indented four spaces, which is a typical amount of indentation for Python.\n",
    "\n",
    "In most other programming languages, indentation is used only to help make the code look pretty. But in Python, it is required for indicating what block of code a statement belongs to. For instance, the final `print('All done!')` is not indented, and so is not part of the `else` block. Infact, its a part of same block as the first statemet `password = input()`.\n",
    "\n",
    "Programmers familiar with other languages often bristle at the thought that indentation matters. Many programmers like the freedom to format their code in any way they find best. However, Python indentation rules are quite simple, and most programmers already use indentation to make their code readable. Python simply takes this idea one step further and gives meaning to the indentation.\n",
    "\n",
    "---\n",
    "\n",
    "# `if`, `elif`, `else` Statements\n",
    "\n",
    "<code>if</code> Statements in Python allows us to tell the computer to perform alternative actions based on a certain set of results.\n",
    "\n",
    "Verbally, we can imagine we are telling the computer:\n",
    "\n",
    "\"Hey, if this case happens, perform some action\"\n",
    "\n",
    "We can then expand the idea further with <code>elif</code> and <code>else</code> statements, which allow us to tell the computer:\n",
    "\n",
    "\"Hey if this case happens, perform some action. Else, if another case happens, perform some other action. Else, if *none* of the above cases happened, perform this action.\"\n",
    "\n",
    "Have a look at the examples below for a better understanding!"
   ]
  },
  {
   "cell_type": "code",
   "execution_count": 2,
   "metadata": {},
   "outputs": [
    {
     "name": "stdout",
     "output_type": "stream",
     "text": [
      "The number of apples is lesser than equal to 10!\n"
     ]
    }
   ],
   "source": [
    "number_of_apples = 10\n",
    "if number_of_apples > 10:\n",
    "    print('The number of apples is greater than 10!')          # notice the indentation\n",
    "else: \n",
    "    print('The number of apples is lesser than equal to 10!')  # here too!"
   ]
  },
  {
   "cell_type": "code",
   "execution_count": 3,
   "metadata": {},
   "outputs": [
    {
     "name": "stdout",
     "output_type": "stream",
     "text": [
      "The number of apples is greater than 10!\n"
     ]
    }
   ],
   "source": [
    "number_of_apples = 11\n",
    "if number_of_apples > 10:\n",
    "    print('The number of apples is greater than 10!')\n",
    "else:\n",
    "    print('The number of apples is lesser than equal to 10!')"
   ]
  },
  {
   "cell_type": "markdown",
   "metadata": {},
   "source": [
    "In the above two cases, the condition is `number_of_apples > 10`.\n",
    "\n",
    "And, depending on the truth value of the condition, the appropriate block of code was executed."
   ]
  },
  {
   "cell_type": "code",
   "execution_count": 4,
   "metadata": {},
   "outputs": [
    {
     "name": "stdout",
     "output_type": "stream",
     "text": [
      "The number of apples is equal to 10!\n"
     ]
    }
   ],
   "source": [
    "number_of_apples = 10\n",
    "if number_of_apples > 10:\n",
    "    print('The number of apples is greater than 10!')\n",
    "elif number_of_apples < 10:\n",
    "    print('The number of apples is lesser than 10!')\n",
    "else:\n",
    "    print('The number of apples is equal to 10!')"
   ]
  }
 ],
 "metadata": {
  "kernelspec": {
   "display_name": "Python 3",
   "language": "python",
   "name": "python3"
  },
  "language_info": {
   "codemirror_mode": {
    "name": "ipython",
    "version": 3
   },
   "file_extension": ".py",
   "mimetype": "text/x-python",
   "name": "python",
   "nbconvert_exporter": "python",
   "pygments_lexer": "ipython3",
   "version": "3.7.4"
  }
 },
 "nbformat": 4,
 "nbformat_minor": 2
}
