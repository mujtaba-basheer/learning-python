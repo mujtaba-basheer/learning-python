{
 "cells": [
  {
   "cell_type": "markdown",
   "metadata": {},
   "source": [
    "# Assignment - 2\n",
    "## Print formatting with strings\n",
    "\n",
    "### Answer the following questions:\n",
    "\n",
    "What are the three different ways in which we can inject variables in strings in Python ?\n",
    "\n",
    "Which one of the above method was introduced in Python 3.6 ?"
   ]
  },
  {
   "cell_type": "markdown",
   "metadata": {},
   "source": [
    "The three different methods of injecting variables in strings in Python are:\n",
    "1) using % operator\n",
    "2) f-Strings\n",
    "3) using .format() string method."
   ]
  },
  {
   "cell_type": "markdown",
   "metadata": {},
   "source": [
    "The method of f-Strings were introduced in Python 3.6"
   ]
  },
  {
   "cell_type": "code",
   "execution_count": 1,
   "metadata": {},
   "outputs": [
    {
     "name": "stdout",
     "output_type": "stream",
     "text": [
      "My name is _______. I am ________ years old.\n"
     ]
    }
   ],
   "source": [
    "name = ''  #insert your name here\n",
    "age = ''   #insert your age here\n",
    "\n",
    "# now insert the above variables inside the the statement: 'My name is ______. I am _______ years old.' using % operator.\n",
    "\n",
    "print('My name is _______. I am ________ years old.')\n",
    "\n",
    "# delete the underscores before injecting the variables.\n"
   ]
  },
  {
   "cell_type": "code",
   "execution_count": 2,
   "metadata": {},
   "outputs": [
    {
     "name": "stdout",
     "output_type": "stream",
     "text": [
      "My name is Mujtaba Basheer. I am 19 years old.\n"
     ]
    }
   ],
   "source": [
    "name = 'Mujtaba Basheer'  #insert your name here\n",
    "age = 19   #insert your age here\n",
    "\n",
    "# now insert the above variables inside the the statement: 'My name is ______. I am _______ years old.' using % operator.\n",
    "\n",
    "print('My name is %s. I am %d years old.' %(name, age))\n",
    "\n",
    "# delete the underscores before injecting the variables."
   ]
  },
  {
   "cell_type": "code",
   "execution_count": 2,
   "metadata": {},
   "outputs": [
    {
     "name": "stdout",
     "output_type": "stream",
     "text": [
      "My name is _______. I am ________ years old.\n",
      "My name is _______. I am ________ years old.\n"
     ]
    }
   ],
   "source": [
    "# now do the same using .format() and f-strings.\n",
    "\n",
    "print('My name is _______. I am ________ years old.') \n",
    "\n",
    "print('My name is _______. I am ________ years old.')\n"
   ]
  },
  {
   "cell_type": "code",
   "execution_count": 4,
   "metadata": {},
   "outputs": [
    {
     "name": "stdout",
     "output_type": "stream",
     "text": [
      "My name is Mujtaba Basheer. I am 19 years old.\n",
      "My name is Mujtaba Basheer. I am 19 years old.\n"
     ]
    }
   ],
   "source": [
    "# now do the same using .format() and f-strings.\n",
    "\n",
    "print('My name is {}. I am {} years old.'.format(name, age)) \n",
    "\n",
    "print(f'My name is {name}. I am {age} years old.')"
   ]
  }
 ],
 "metadata": {
  "kernelspec": {
   "display_name": "Python 3",
   "language": "python",
   "name": "python3"
  },
  "language_info": {
   "codemirror_mode": {
    "name": "ipython",
    "version": 3
   },
   "file_extension": ".py",
   "mimetype": "text/x-python",
   "name": "python",
   "nbconvert_exporter": "python",
   "pygments_lexer": "ipython3",
   "version": "3.7.4"
  }
 },
 "nbformat": 4,
 "nbformat_minor": 2
}
