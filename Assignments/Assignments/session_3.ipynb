{
 "cells": [
  {
   "cell_type": "markdown",
   "metadata": {},
   "source": [
    "# Assignment - 3\n",
    "\n",
    "## Lists, Dictionaries, Tuples and Sets\n",
    "\n",
    "#### Answer the following questions:\n",
    "\n",
    "How is a tuple different from a list?\n",
    "\n",
    "How is a set different from a dictionary?\n",
    "\n",
    "How to create a tuple with just one element? Explain.\n",
    "\n"
   ]
  },
  {
   "cell_type": "markdown",
   "metadata": {},
   "source": [
    "## Lists"
   ]
  },
  {
   "cell_type": "code",
   "execution_count": 1,
   "metadata": {},
   "outputs": [],
   "source": [
    "# sort this list\n",
    "numbers = [12, 34, 89, 1, -23, -99]"
   ]
  },
  {
   "cell_type": "code",
   "execution_count": 3,
   "metadata": {},
   "outputs": [
    {
     "name": "stdout",
     "output_type": "stream",
     "text": [
      "[-99, -23, 1, 12, 34, 89]\n"
     ]
    }
   ],
   "source": [
    "# sort this list\n",
    "numbers = [12, 34, 89, 1, -23, -99]\n",
    "numbers.sort()\n",
    "print(numbers)"
   ]
  },
  {
   "cell_type": "code",
   "execution_count": 2,
   "metadata": {},
   "outputs": [],
   "source": [
    "# reverse this list\n",
    "names = ['Ajay', 'Jatin', 'Piyush', 'Niwesh']"
   ]
  },
  {
   "cell_type": "code",
   "execution_count": 6,
   "metadata": {},
   "outputs": [
    {
     "name": "stdout",
     "output_type": "stream",
     "text": [
      "['Niwesh', 'Piyush', 'Jatin', 'Ajay']\n"
     ]
    }
   ],
   "source": [
    "# reverse this list\n",
    "names = ['Ajay', 'Jatin', 'Piyush', 'Niwesh']\n",
    "names.reverse()\n",
    "print(names)"
   ]
  },
  {
   "cell_type": "code",
   "execution_count": 3,
   "metadata": {},
   "outputs": [],
   "source": [
    "# find the maximum and minimum from this list\n",
    "numbers_two = [12, 67, 78787, 902, 232, -76, -9, 872001]"
   ]
  },
  {
   "cell_type": "code",
   "execution_count": 11,
   "metadata": {},
   "outputs": [
    {
     "name": "stdout",
     "output_type": "stream",
     "text": [
      "Max:  872001\n",
      "Min:  -76\n"
     ]
    }
   ],
   "source": [
    "# find the maximum and minimum from this list\n",
    "numbers_two = [12, 67, 78787, 902, 232, -76, -9, 872001]\n",
    "print('Max: ',max(numbers_two))\n",
    "print('Min: ',min(numbers_two))"
   ]
  },
  {
   "cell_type": "code",
   "execution_count": 13,
   "metadata": {},
   "outputs": [],
   "source": [
    "# change the element 'apples' to 'oranges'\n",
    "my_list = [23, 56, ['bananas', 'apples']]"
   ]
  },
  {
   "cell_type": "code",
   "execution_count": 14,
   "metadata": {},
   "outputs": [
    {
     "name": "stdout",
     "output_type": "stream",
     "text": [
      "[23, 56, ['bananas', 'oranges']]\n"
     ]
    }
   ],
   "source": [
    "# change the element 'apples' to 'oranges'\n",
    "my_list = [23, 56, ['bananas', 'apples']]\n",
    "my_list[2][1] = 'oranges'\n",
    "print(my_list)"
   ]
  },
  {
   "cell_type": "code",
   "execution_count": 5,
   "metadata": {},
   "outputs": [],
   "source": [
    "# reverse this list (use a different method this time)\n",
    "numbers_three = [12, 7, 90, -29, 0]"
   ]
  },
  {
   "cell_type": "code",
   "execution_count": 15,
   "metadata": {},
   "outputs": [
    {
     "name": "stdout",
     "output_type": "stream",
     "text": [
      "[0, -29, 90, 7, 12]\n"
     ]
    }
   ],
   "source": [
    "# reverse this list (use a different method this time)\n",
    "numbers_three = [12, 7, 90, -29, 0]\n",
    "print(numbers_three[-1:-6:-1])"
   ]
  },
  {
   "cell_type": "markdown",
   "metadata": {},
   "source": [
    "## Dictionaries"
   ]
  },
  {
   "cell_type": "code",
   "execution_count": 6,
   "metadata": {},
   "outputs": [],
   "source": [
    "# grab 'apples'\n",
    "inventory = {'fruit_one': 'bananas', 'fruit_two': 'apples'}"
   ]
  },
  {
   "cell_type": "code",
   "execution_count": 1,
   "metadata": {},
   "outputs": [
    {
     "data": {
      "text/plain": [
       "'apples'"
      ]
     },
     "execution_count": 1,
     "metadata": {},
     "output_type": "execute_result"
    }
   ],
   "source": [
    "# grab 'apples'\n",
    "inventory = {'fruit_one': 'bananas', 'fruit_two': 'apples'}\n",
    "inventory['fruit_two']"
   ]
  },
  {
   "cell_type": "code",
   "execution_count": 7,
   "metadata": {},
   "outputs": [],
   "source": [
    "# grab 'apples'\n",
    "inventory = {'numbers':[1, 2, 3, 4, 5], 'fruits': ['peaches', 'apples', 'bananas', 'oranges']}"
   ]
  },
  {
   "cell_type": "code",
   "execution_count": 2,
   "metadata": {},
   "outputs": [
    {
     "data": {
      "text/plain": [
       "'apples'"
      ]
     },
     "execution_count": 2,
     "metadata": {},
     "output_type": "execute_result"
    }
   ],
   "source": [
    "# grab 'apples'\n",
    "inventory = {'numbers':[1, 2, 3, 4, 5], 'fruits': ['peaches', 'apples', 'bananas', 'oranges']}\n",
    "inventory['fruits'][1]"
   ]
  },
  {
   "cell_type": "code",
   "execution_count": 8,
   "metadata": {},
   "outputs": [],
   "source": [
    "# grab 'apples'\n",
    "inventory = {'sub_inventory': {'numbers': [1, 5, 2, 8], 'fruits':{ 'quantity':25, 'names':['peaches', 'apples']}}}"
   ]
  },
  {
   "cell_type": "code",
   "execution_count": 5,
   "metadata": {},
   "outputs": [
    {
     "data": {
      "text/plain": [
       "'apples'"
      ]
     },
     "execution_count": 5,
     "metadata": {},
     "output_type": "execute_result"
    }
   ],
   "source": [
    "# grab 'apples'\n",
    "inventory = {'sub_inventory': {'numbers': [1, 5, 2, 8], 'fruits':{ 'quantity':25, 'names':['peaches', 'apples']}}}\n",
    "inventory['sub_inventory']['fruits']['names'][1]"
   ]
  },
  {
   "cell_type": "markdown",
   "metadata": {},
   "source": [
    "## Sets"
   ]
  },
  {
   "cell_type": "code",
   "execution_count": 9,
   "metadata": {},
   "outputs": [],
   "source": [
    "# remove the unique elements from the list\n",
    "numbers = [1, 1, 1, 1, 3, 4, 9, 0, 1, 1, 1]"
   ]
  },
  {
   "cell_type": "code",
   "execution_count": 6,
   "metadata": {},
   "outputs": [
    {
     "data": {
      "text/plain": [
       "{0, 1, 3, 4, 9}"
      ]
     },
     "execution_count": 6,
     "metadata": {},
     "output_type": "execute_result"
    }
   ],
   "source": [
    "# remove the unique elements from the list\n",
    "numbers = [1, 1, 1, 1, 3, 4, 9, 0, 1, 1, 1]\n",
    "set(numbers)"
   ]
  },
  {
   "cell_type": "markdown",
   "metadata": {},
   "source": [
    "## Tuples"
   ]
  },
  {
   "cell_type": "code",
   "execution_count": 10,
   "metadata": {},
   "outputs": [],
   "source": [
    "# count the number of occurances of 2 in the tuple\n",
    "numbers = (2, 2, 1, 1, 4, 4, 2)"
   ]
  },
  {
   "cell_type": "code",
   "execution_count": 8,
   "metadata": {},
   "outputs": [
    {
     "data": {
      "text/plain": [
       "3"
      ]
     },
     "execution_count": 8,
     "metadata": {},
     "output_type": "execute_result"
    }
   ],
   "source": [
    "# count the number of occurances of 2 in the tuple\n",
    "numbers = (2, 2, 1, 1, 4, 4, 2)\n",
    "numbers.count(2)"
   ]
  },
  {
   "cell_type": "code",
   "execution_count": 11,
   "metadata": {},
   "outputs": [],
   "source": [
    "# find the index of 1 in the above tuple"
   ]
  },
  {
   "cell_type": "code",
   "execution_count": 9,
   "metadata": {},
   "outputs": [
    {
     "data": {
      "text/plain": [
       "2"
      ]
     },
     "execution_count": 9,
     "metadata": {},
     "output_type": "execute_result"
    }
   ],
   "source": [
    "# find the index of 1 in the above tuple\n",
    "numbers.index(1)"
   ]
  },
  {
   "cell_type": "code",
   "execution_count": 12,
   "metadata": {},
   "outputs": [],
   "source": [
    "# find the length of the above tuple"
   ]
  },
  {
   "cell_type": "markdown",
   "metadata": {},
   "source": [
    "# That's it!"
   ]
  }
 ],
 "metadata": {
  "kernelspec": {
   "display_name": "Python 3",
   "language": "python",
   "name": "python3"
  },
  "language_info": {
   "codemirror_mode": {
    "name": "ipython",
    "version": 3
   },
   "file_extension": ".py",
   "mimetype": "text/x-python",
   "name": "python",
   "nbconvert_exporter": "python",
   "pygments_lexer": "ipython3",
   "version": "3.7.4"
  }
 },
 "nbformat": 4,
 "nbformat_minor": 2
}
