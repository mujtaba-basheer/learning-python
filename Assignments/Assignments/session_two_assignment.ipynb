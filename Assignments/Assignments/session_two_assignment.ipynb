{
 "cells": [
  {
   "cell_type": "markdown",
   "metadata": {},
   "source": [
    "# Assignment - 2\n",
    "## Print formatting with strings\n",
    "\n",
    "### Answer the following questions:\n",
    "\n",
    "What are the three different ways in which we can inject variables in strings in Python ?\n",
    "\n",
    "Which one of the above method was introduced in Python 3.6 ?"
   ]
  },
  {
   "cell_type": "code",
   "execution_count": null,
   "metadata": {},
   "outputs": [],
   "source": [
    "The three"
   ]
  },
  {
   "cell_type": "code",
   "execution_count": 1,
   "metadata": {},
   "outputs": [
    {
     "name": "stdout",
     "output_type": "stream",
     "text": [
      "My name is _______. I am ________ years old.\n"
     ]
    }
   ],
   "source": [
    "name = ''  #insert your name here\n",
    "age = ''   #insert your age here\n",
    "\n",
    "# now insert the above variables inside the the statement: 'My name is ______. I am _______ years old.' using % operator.\n",
    "\n",
    "print('My name is _______. I am ________ years old.')\n",
    "\n",
    "# delete the underscores before injecting the variables.\n"
   ]
  },
  {
   "cell_type": "code",
   "execution_count": null,
   "metadata": {},
   "outputs": [],
   "source": [
    "name = 'Mujtaba Basheer'  #insert your name here\n",
    "age = 19   #insert your age here\n",
    "\n",
    "# now insert the above variables inside the the statement: 'My name is ______. I am _______ years old.' using % operator.\n",
    "\n",
    "print('My name is %s. I am %d years old.')\n",
    "\n",
    "# delete the underscores before injecting the variables."
   ]
  },
  {
   "cell_type": "code",
   "execution_count": 2,
   "metadata": {},
   "outputs": [
    {
     "name": "stdout",
     "output_type": "stream",
     "text": [
      "My name is _______. I am ________ years old.\n",
      "My name is _______. I am ________ years old.\n"
     ]
    }
   ],
   "source": [
    "# now do the same using .format() and f-strings.\n",
    "\n",
    "print('My name is _______. I am ________ years old.') \n",
    "\n",
    "print('My name is _______. I am ________ years old.')\n"
   ]
  }
 ],
 "metadata": {
  "kernelspec": {
   "display_name": "Python 3",
   "language": "python",
   "name": "python3"
  },
  "language_info": {
   "codemirror_mode": {
    "name": "ipython",
    "version": 3
   },
   "file_extension": ".py",
   "mimetype": "text/x-python",
   "name": "python",
   "nbconvert_exporter": "python",
   "pygments_lexer": "ipython3",
   "version": "3.7.4"
  }
 },
 "nbformat": 4,
 "nbformat_minor": 2
}
