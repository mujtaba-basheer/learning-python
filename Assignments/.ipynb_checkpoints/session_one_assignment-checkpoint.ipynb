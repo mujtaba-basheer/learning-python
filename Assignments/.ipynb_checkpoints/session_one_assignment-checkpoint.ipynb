{
 "cells": [
  {
   "cell_type": "markdown",
   "metadata": {},
   "source": [
    "# Assignment - I\n",
    "## Numbers, Variable Assignment and Strings\n",
    "\n",
    "#### Answer the following questions:\n",
    "\n",
    "What are the different types of \"numbers\" available in Python ?\n",
    "\n",
    "\n",
    "What are strings in Python ?\n",
    "\n",
    "\n",
    "### We are going to discuss more about comments in the coming sessions. Still, you must need to know a bit about it as it has being used in assignments and notes.\n",
    "\n",
    "Comments are very important while writing a program. It describes what's going on inside a program so that a person looking at the source code does not have a hard time figuring it out. You might forget the key details of the program you just wrote in a month's time. So taking time to explain these concepts in form of comments is always fruitful.\n",
    "\n",
    "In Python, we use the hash (#) symbol to start writing a comment.\n",
    "\n",
    "It extends up to the newline character. Comments are for programmers for better understanding of a program. Python Interpreter ignores comment. \n",
    "\n",
    "For example:\n"
   ]
  },
  {
   "cell_type": "code",
   "execution_count": 1,
   "metadata": {},
   "outputs": [],
   "source": [
    "# this is a comment\n",
    "# the Python interpreter will ignore this line\n",
    "# you can explain your code logic / usage through comments\n",
    "\n",
    "# If you see below, I have used comments to describe the questions that you are required to solve\n",
    "# All the best!"
   ]
  },
  {
   "cell_type": "code",
   "execution_count": 1,
   "metadata": {},
   "outputs": [],
   "source": [
    "# find the square root of 6594624"
   ]
  },
  {
   "cell_type": "code",
   "execution_count": 2,
   "metadata": {},
   "outputs": [],
   "source": [
    "# find the square of 2589"
   ]
  },
  {
   "cell_type": "code",
   "execution_count": 3,
   "metadata": {},
   "outputs": [],
   "source": [
    "# print out the letter 'y' using string indexing\n",
    "s = 'rythm'"
   ]
  },
  {
   "cell_type": "code",
   "execution_count": null,
   "metadata": {},
   "outputs": [],
   "source": []
  },
  {
   "cell_type": "code",
   "execution_count": 4,
   "metadata": {},
   "outputs": [],
   "source": [
    "# print out the letter 'm' using string indexing\n",
    "s = 'rythm'"
   ]
  },
  {
   "cell_type": "code",
   "execution_count": 5,
   "metadata": {},
   "outputs": [],
   "source": [
    "# print out the letter 'm' using string indexing, but this time use a different method (Hint: negative indexing ?)\n",
    "s = 'rythm'"
   ]
  },
  {
   "cell_type": "code",
   "execution_count": 6,
   "metadata": {},
   "outputs": [],
   "source": [
    "# grab all the even position characters, considering the first position to be 0 i.e. even\n",
    "s = 'coconut'"
   ]
  },
  {
   "cell_type": "code",
   "execution_count": 7,
   "metadata": {},
   "outputs": [],
   "source": [
    "# grab all the odd position characters, considering the first position to be 0 i.e. even\n",
    "s = 'coconut'"
   ]
  },
  {
   "cell_type": "code",
   "execution_count": 8,
   "metadata": {},
   "outputs": [],
   "source": [
    "# reverse the following string\n",
    "s = 'reverse'"
   ]
  }
 ],
 "metadata": {
  "kernelspec": {
   "display_name": "Python 3",
   "language": "python",
   "name": "python3"
  },
  "language_info": {
   "codemirror_mode": {
    "name": "ipython",
    "version": 3
   },
   "file_extension": ".py",
   "mimetype": "text/x-python",
   "name": "python",
   "nbconvert_exporter": "python",
   "pygments_lexer": "ipython3",
   "version": "3.7.4"
  }
 },
 "nbformat": 4,
 "nbformat_minor": 2
}
