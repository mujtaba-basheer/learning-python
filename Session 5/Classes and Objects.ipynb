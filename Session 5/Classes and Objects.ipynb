{
 "cells": [
  {
   "cell_type": "code",
   "execution_count": 2,
   "metadata": {},
   "outputs": [],
   "source": [
    "# n = 13 in cypher"
   ]
  },
  {
   "cell_type": "code",
   "execution_count": 9,
   "metadata": {},
   "outputs": [
    {
     "name": "stdout",
     "output_type": "stream",
     "text": [
      "qwerty\n",
      "asdfgh\n",
      "qwerty\n",
      "21\n"
     ]
    }
   ],
   "source": [
    "class User:\n",
    "    age = 21\n",
    "    def __init__ (self, first_name, last_name): # 2 underscores before and after init\n",
    "        self.first_name = first_name\n",
    "        self.last_name = last_name\n",
    "\n",
    "first_name = input()\n",
    "last_name = input()\n",
    "\n",
    "user = User(first_name, last_name)\n",
    "print(user.first_name)\n",
    "print(user.age)"
   ]
  },
  {
   "cell_type": "code",
   "execution_count": null,
   "metadata": {},
   "outputs": [],
   "source": [
    "class User:\n",
    "    pythondef __init__ (self, first_name, last_name): # 2 underscores before and after init\n",
    "        self.first_name = first_name\n",
    "        self.last_name = last_name\n",
    "\n",
    "first_name = input()\n",
    "last_name = input()\n",
    "#pwd = input()\n",
    "\n",
    "user = User(first_name, last_name)\n",
    "print(user.first_name)\n",
    "print(user.age)\n"
   ]
  }
 ],
 "metadata": {
  "kernelspec": {
   "display_name": "Python 3",
   "language": "python",
   "name": "python3"
  },
  "language_info": {
   "codemirror_mode": {
    "name": "ipython",
    "version": 3
   },
   "file_extension": ".py",
   "mimetype": "text/x-python",
   "name": "python",
   "nbconvert_exporter": "python",
   "pygments_lexer": "ipython3",
   "version": "3.6.9"
  }
 },
 "nbformat": 4,
 "nbformat_minor": 2
}
