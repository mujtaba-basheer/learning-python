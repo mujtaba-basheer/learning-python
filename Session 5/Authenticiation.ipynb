{
 "cells": [
  {
   "cell_type": "code",
   "execution_count": 2,
   "metadata": {},
   "outputs": [
    {
     "name": "stdout",
     "output_type": "stream",
     "text": [
      "First name: Muj\n",
      "Last name: Bash\n",
      "Email: qwerty\n",
      "Password: asdfgh\n",
      "\n",
      "Your password is  nfqstu\n",
      "\n",
      "Enter login details...\n",
      "Email: qwerty\n",
      "Password: asdfgh\n",
      "Logged in successfully\n"
     ]
    }
   ],
   "source": [
    "def encode (password, n):\n",
    "    encoded_pass = \"\"\n",
    "    \n",
    "    for ch in password:\n",
    "        c = ord(ch)\n",
    "        \n",
    "        if c >= 65 and c <= 90:\n",
    "            if c + n > 90:\n",
    "                a = ((c + n) % 90) + 64\n",
    "            else:\n",
    "                a = c + n\n",
    "        elif c >= 97 and c <= 122:\n",
    "            if c + n > 122:\n",
    "                a = ((c + n) % 122) + 96\n",
    "            else:\n",
    "                a = c + n\n",
    "        \n",
    "        encoded_pass += chr(a)\n",
    "            \n",
    "    return encoded_pass\n",
    "\n",
    "class User:\n",
    "    def __init__ (self, first_name, last_name, email, password):\n",
    "        self.first_name = first_name\n",
    "        self.last_name = last_name\n",
    "        self.email = email\n",
    "        self.password = encode(password, 13)\n",
    "        \n",
    "    def checkUser (self, email, password):\n",
    "        if email == self.email:\n",
    "            if self.password == encode(password, 13):\n",
    "                return True\n",
    "            else:\n",
    "                return False\n",
    "        else:\n",
    "            return False\n",
    "\n",
    "first_name = input(\"First name: \")\n",
    "last_name = input(\"Last name: \")\n",
    "email = input(\"Email: \")\n",
    "password = input(\"Password: \")\n",
    "\n",
    "user = User(first_name, last_name, email, password)\n",
    "\n",
    "print(\"\\nYour password is \", user.password)\n",
    "\n",
    "print(\"\\nEnter login details...\")\n",
    "\n",
    "email = input(\"Email: \")\n",
    "password = input(\"Password: \")\n",
    "\n",
    "if(user.checkUser(email, password)):\n",
    "    print('Logged in successfully')\n",
    "else:\n",
    "    print('Invalid Details')"
   ]
  }
 ],
 "metadata": {
  "kernelspec": {
   "display_name": "Python 3",
   "language": "python",
   "name": "python3"
  },
  "language_info": {
   "codemirror_mode": {
    "name": "ipython",
    "version": 3
   },
   "file_extension": ".py",
   "mimetype": "text/x-python",
   "name": "python",
   "nbconvert_exporter": "python",
   "pygments_lexer": "ipython3",
   "version": "3.6.9"
  }
 },
 "nbformat": 4,
 "nbformat_minor": 2
}
