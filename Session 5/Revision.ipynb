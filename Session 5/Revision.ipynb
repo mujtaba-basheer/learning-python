{
 "cells": [
  {
   "cell_type": "code",
   "execution_count": 15,
   "metadata": {},
   "outputs": [
    {
     "name": "stdout",
     "output_type": "stream",
     "text": [
      "Enter a number: 59\n",
      "Prime\n"
     ]
    }
   ],
   "source": [
    "n = int(input(\"Enter a number: \"))\n",
    "c = 0\n",
    "for i in range (1, n):\n",
    "    if n % i == 0:\n",
    "        c += 1\n",
    "if c >= 2:\n",
    "    print(\"Not Prime\")\n",
    "else:\n",
    "    print(\"Prime\")"
   ]
  },
  {
   "cell_type": "code",
   "execution_count": 3,
   "metadata": {},
   "outputs": [
    {
     "name": "stdout",
     "output_type": "stream",
     "text": [
      "Enter first name: a\n",
      "Enter last name: b\n",
      "Enter email: c\n",
      "Enter password: d\n",
      "Enter first name: e\n",
      "Enter last name: f\n",
      "Enter email: g\n",
      "Enter password: h\n",
      "Enter first name: i\n",
      "Enter last name: j\n",
      "Enter email: k\n",
      "Enter password: l\n",
      "{'first_name': 'a', 'last_name': 'b', 'email': 'c', 'password': 'd'}\n",
      "{'first_name': 'e', 'last_name': 'f', 'email': 'g', 'password': 'h'}\n",
      "{'first_name': 'i', 'last_name': 'j', 'email': 'k', 'password': 'l'}\n"
     ]
    }
   ],
   "source": [
    "users = list()\n",
    "user = {}\n",
    "for i in range (3):\n",
    "    first_name = input(\"Enter first name: \")\n",
    "    last_name = input(\"Enter last name: \")\n",
    "    email = input(\"Enter email: \")\n",
    "    password = input(\"Enter password: \")\n",
    "    user = { 'first_name': first_name, 'last_name': last_name, 'email': email, 'password': password }\n",
    "    users.append(user)\n",
    "for i in users:\n",
    "    print(i)"
   ]
  },
  {
   "cell_type": "markdown",
   "metadata": {},
   "source": [
    "first_name = input(\"Enter first name: \")\n",
    "last_name = input(\"Enter last name: \")\n",
    "email = input(\"Enter email: \")\n",
    "password = input(\"Enter password: \")\n",
    "user = {\n",
    "    'first_name': first_name,\n",
    "    'last_name': last_name,\n",
    "    'email': email,\n",
    "    'password': password\n",
    "}\n",
    "print(user)"
   ]
  },
  {
   "cell_type": "code",
   "execution_count": 4,
   "metadata": {},
   "outputs": [
    {
     "name": "stdout",
     "output_type": "stream",
     "text": [
      "Enter first name: A\n",
      "Enter last name: B\n",
      "Enter email: C\n",
      "Enter password: D\n",
      "{'first_name': 'A', 'last_name': 'B', 'email': 'C', 'password': 'D'}\n"
     ]
    }
   ],
   "source": [
    "first_name = input(\"Enter first name: \")\n",
    "last_name = input(\"Enter last name: \")\n",
    "email = input(\"Enter email: \")\n",
    "password = input(\"Enter password: \")\n",
    "user = {\n",
    "    'first_name': first_name,\n",
    "    'last_name': last_name,\n",
    "    'email': email,\n",
    "    'password': password\n",
    "}\n",
    "print(user)"
   ]
  }
 ],
 "metadata": {
  "kernelspec": {
   "display_name": "Python 3",
   "language": "python",
   "name": "python3"
  },
  "language_info": {
   "codemirror_mode": {
    "name": "ipython",
    "version": 3
   },
   "file_extension": ".py",
   "mimetype": "text/x-python",
   "name": "python",
   "nbconvert_exporter": "python",
   "pygments_lexer": "ipython3",
   "version": "3.6.9"
  }
 },
 "nbformat": 4,
 "nbformat_minor": 2
}
