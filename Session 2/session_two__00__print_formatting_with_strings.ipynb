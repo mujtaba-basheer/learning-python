{
 "cells": [
  {
   "cell_type": "markdown",
   "metadata": {},
   "source": [
    "# String Formatting\n",
    "\n",
    "String formatting lets you inject items.\n",
    "\n",
    "There are three ways to perform string formatting.\n",
    "* Using the modulo `%` character.\n",
    "* Using `.format()` string method.\n",
    "* Using *f-strings*, introduced with Python 3.6.\n"
   ]
  },
  {
   "cell_type": "markdown",
   "metadata": {},
   "source": [
    "## 1. Using the `%` operator\n",
    "You can use <code>%s</code> to inject strings into your print statements. The modulo `%` is referred to as a \"string formatting operator\"."
   ]
  },
  {
   "cell_type": "code",
   "execution_count": 1,
   "metadata": {},
   "outputs": [
    {
     "name": "stdout",
     "output_type": "stream",
     "text": [
      "Apple is my favourite fruit.\n"
     ]
    }
   ],
   "source": [
    "print(\"%s is my favourite fruit.\" %'Apple')"
   ]
  },
  {
   "cell_type": "markdown",
   "metadata": {},
   "source": [
    "You can pass multiple items by placing them inside the parentheses after the `%` operator."
   ]
  },
  {
   "cell_type": "code",
   "execution_count": 2,
   "metadata": {},
   "outputs": [
    {
     "name": "stdout",
     "output_type": "stream",
     "text": [
      "Apple and Mango are my favourite fruits.\n"
     ]
    }
   ],
   "source": [
    "print(\"%s and %s are my favourite fruits.\" %('Apple', 'Mango'))"
   ]
  },
  {
   "cell_type": "markdown",
   "metadata": {},
   "source": [
    "You can pass variable names also!"
   ]
  },
  {
   "cell_type": "code",
   "execution_count": 3,
   "metadata": {},
   "outputs": [
    {
     "name": "stdout",
     "output_type": "stream",
     "text": [
      "Apple and Mango are my favourite fruits.\n"
     ]
    }
   ],
   "source": [
    "fruit_one = 'Apple' \n",
    "fruit_two = 'Mango'\n",
    "print(\"%s and %s are my favourite fruits.\" %(fruit_one, fruit_two))"
   ]
  },
  {
   "cell_type": "markdown",
   "metadata": {},
   "source": [
    "Here are some basic argument specifiers you should know:\n",
    "\n",
    "`%s` - String (or any object with a string representation, like numbers (we will dsicuss what this means later!) \n",
    "\n",
    "`%d` - Integers\n",
    "\n",
    "`%f` - Floating point numbers\n",
    "\n",
    "`%.<number of digits>f` - Floating point numbers with a fixed amount of digits to the right of the dot (more on this below)\n",
    "\n",
    "`%x/%X` - Integers in hex representation (lowercase/uppercase)"
   ]
  },
  {
   "cell_type": "code",
   "execution_count": 4,
   "metadata": {},
   "outputs": [
    {
     "name": "stdout",
     "output_type": "stream",
     "text": [
      "I have 10 apples.\n"
     ]
    }
   ],
   "source": [
    "quantity = 10\n",
    "fruit = 'apples'\n",
    "print('I have %d %s.' %(quantity, fruit))"
   ]
  },
  {
   "cell_type": "code",
   "execution_count": 5,
   "metadata": {},
   "outputs": [
    {
     "name": "stdout",
     "output_type": "stream",
     "text": [
      "I bought the apples for 12.340000\n"
     ]
    }
   ],
   "source": [
    "cost = 12.34\n",
    "print('I bought the apples for %f' %(cost))"
   ]
  },
  {
   "cell_type": "code",
   "execution_count": 6,
   "metadata": {},
   "outputs": [
    {
     "name": "stdout",
     "output_type": "stream",
     "text": [
      "The hex of 10 is a.\n"
     ]
    }
   ],
   "source": [
    "number = 10\n",
    "print('The hex of %d is %x.' %(number, number))"
   ]
  },
  {
   "cell_type": "code",
   "execution_count": 7,
   "metadata": {},
   "outputs": [
    {
     "name": "stdout",
     "output_type": "stream",
     "text": [
      "The hex of 10 is A.\n"
     ]
    }
   ],
   "source": [
    "number = 10\n",
    "print('The hex of %d is %X.' %(number, number)) # Notice the capital 'A' in this case!"
   ]
  },
  {
   "cell_type": "markdown",
   "metadata": {},
   "source": [
    "### Padding and Precision of Floating Point Numbers\n",
    "Floating point numbers use the format <code>%a.bf</code>, where `a` and `b` are inetegers. Here, <code>a</code> would be the minimum number of characters the string should contain; these may be padded with whitespace if the entire number does not have this many digits. <code>.bf</code> stands for how many numbers to show to the right of the decimal point. \n",
    "\n",
    "Let's see some examples:"
   ]
  },
  {
   "cell_type": "code",
   "execution_count": 8,
   "metadata": {},
   "outputs": [],
   "source": [
    "number = 10.256"
   ]
  },
  {
   "cell_type": "code",
   "execution_count": 9,
   "metadata": {},
   "outputs": [
    {
     "name": "stdout",
     "output_type": "stream",
     "text": [
      "The number is 10.26\n"
     ]
    }
   ],
   "source": [
    "print('The number is %5.2f' %number)"
   ]
  },
  {
   "cell_type": "code",
   "execution_count": 10,
   "metadata": {},
   "outputs": [
    {
     "name": "stdout",
     "output_type": "stream",
     "text": [
      "The number is 10.25600000\n"
     ]
    }
   ],
   "source": [
    "print('The number is %5.8f' %number)"
   ]
  },
  {
   "cell_type": "code",
   "execution_count": 11,
   "metadata": {},
   "outputs": [
    {
     "name": "stdout",
     "output_type": "stream",
     "text": [
      "The number is                10.26\n"
     ]
    }
   ],
   "source": [
    "print('The number is %20.2f' %number) # Notice the whitespace in this example"
   ]
  },
  {
   "cell_type": "code",
   "execution_count": 12,
   "metadata": {},
   "outputs": [
    {
     "name": "stdout",
     "output_type": "stream",
     "text": [
      "The number is 10.25600000000000022737367544323205947875976562500000000000\n"
     ]
    }
   ],
   "source": [
    "print('The number is %.56f' %number) # Woah! What is this ?"
   ]
  },
  {
   "cell_type": "markdown",
   "metadata": {},
   "source": [
    "## 2. Using the `.format()` method\n",
    "\n",
    "A better way to inject variables or strings in your print statements is via `.format()`.\n",
    "\n",
    "Lets look at some examples!"
   ]
  },
  {
   "cell_type": "code",
   "execution_count": 13,
   "metadata": {},
   "outputs": [
    {
     "name": "stdout",
     "output_type": "stream",
     "text": [
      "The numbers are 10 and 20.\n"
     ]
    }
   ],
   "source": [
    "number_one = 10\n",
    "number_two = 20\n",
    "print('The numbers are {} and {}.'.format(number_one, number_two))"
   ]
  },
  {
   "cell_type": "markdown",
   "metadata": {},
   "source": [
    "The curly braces are replaced by the values present inside `.format()`. \n",
    "\n"
   ]
  },
  {
   "cell_type": "markdown",
   "metadata": {},
   "source": [
    "You can modify the sequence in which the variables/values are inserted. Have a look:"
   ]
  },
  {
   "cell_type": "code",
   "execution_count": 14,
   "metadata": {},
   "outputs": [
    {
     "name": "stdout",
     "output_type": "stream",
     "text": [
      "The numbers are 20 and 10.\n"
     ]
    }
   ],
   "source": [
    "number_one = 10\n",
    "number_two = 20\n",
    "print('The numbers are {1} and {0}.'.format(number_one, number_two))"
   ]
  },
  {
   "cell_type": "markdown",
   "metadata": {},
   "source": [
    "In the above case, 20 was printed before 10 even though `number_one` was before `number_two` inside `.format()`. \n",
    "\n",
    "Just like strings, the indexing of variables/values inside `.format()` begins with 0 instead of 1.\n",
    "\n",
    "Hence, 1 refers to `number_two` and 0 refers to `number_one`.\n",
    "\n",
    "We manipulated the sequence in which the variables are injected inside the string using their respective index."
   ]
  },
  {
   "cell_type": "markdown",
   "metadata": {},
   "source": [
    "---\n",
    "\n",
    "We can also assign keywords to variables inside `.format()`."
   ]
  },
  {
   "cell_type": "code",
   "execution_count": 15,
   "metadata": {},
   "outputs": [
    {
     "name": "stdout",
     "output_type": "stream",
     "text": [
      "The numbers are 10 and 20.\n"
     ]
    }
   ],
   "source": [
    "number_one = 10\n",
    "number_two = 20\n",
    "print('The numbers are {a} and {b}.'.format(a=number_one, b=number_two))"
   ]
  },
  {
   "cell_type": "code",
   "execution_count": 16,
   "metadata": {},
   "outputs": [
    {
     "name": "stdout",
     "output_type": "stream",
     "text": [
      "The numbers are 20 and 10 and 30.\n"
     ]
    }
   ],
   "source": [
    "number_one = 10\n",
    "number_two = 20\n",
    "number_three = 30\n",
    "print('The numbers are {b} and {a} and {c}.'.format(a=number_one, b=number_two, c=number_three))"
   ]
  },
  {
   "cell_type": "code",
   "execution_count": 17,
   "metadata": {},
   "outputs": [
    {
     "name": "stdout",
     "output_type": "stream",
     "text": [
      "The numbers are 10, 20, 10, and 20.\n"
     ]
    }
   ],
   "source": [
    "number_one = 10\n",
    "number_two = 20\n",
    "print('The numbers are {a}, {b}, {a}, and {b}.'.format(a=number_one, b=number_two))"
   ]
  },
  {
   "cell_type": "markdown",
   "metadata": {},
   "source": [
    "## 3. Using f strings\n",
    "\n",
    "The best way to inject variables in statements is via `f` strings. `f` strings was introduced in Python 3.6. So, if you have an older version of Python, the following examples will throw a `sytanx error`.\n",
    "\n",
    "In `f` strings, the variables we want to inject, are just embedded directly into the string, but enclosed within a pair of curly braces `{}`, and the string is prefixed with the letter `f`.\n",
    "\n",
    "The following examples will help you understand it beter."
   ]
  },
  {
   "cell_type": "code",
   "execution_count": 18,
   "metadata": {},
   "outputs": [
    {
     "name": "stdout",
     "output_type": "stream",
     "text": [
      "The numbers are 30 and 40\n"
     ]
    }
   ],
   "source": [
    "number_one = 30\n",
    "number_two = 40\n",
    "print(f'The numbers are {number_one} and {number_two}')"
   ]
  },
  {
   "cell_type": "markdown",
   "metadata": {},
   "source": [
    "Wasn't that way easier than the methods discussed before?\n",
    "\n",
    "`f` strings are easier to read and work with.\n",
    "\n",
    "Also, they are insanely fast compared to `%` and `.format()`.\n",
    "\n",
    "See for yourself!\n",
    "\n",
    "<img src='https://imgur.com/Q15Nyns.png' />\n",
    "\n",
    "## That's all about print formatting with strings in Python!"
   ]
  }
 ],
 "metadata": {
  "kernelspec": {
   "display_name": "Python 3",
   "language": "python",
   "name": "python3"
  },
  "language_info": {
   "codemirror_mode": {
    "name": "ipython",
    "version": 3
   },
   "file_extension": ".py",
   "mimetype": "text/x-python",
   "name": "python",
   "nbconvert_exporter": "python",
   "pygments_lexer": "ipython3",
   "version": "3.7.4"
  }
 },
 "nbformat": 4,
 "nbformat_minor": 2
}
