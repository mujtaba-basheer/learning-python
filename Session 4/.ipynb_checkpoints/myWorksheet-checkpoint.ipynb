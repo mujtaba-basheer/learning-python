{
 "cells": [
  {
   "cell_type": "code",
   "execution_count": 1,
   "metadata": {},
   "outputs": [
    {
     "name": "stdout",
     "output_type": "stream",
     "text": [
      "0\n",
      "1\n",
      "2\n",
      "3\n",
      "4\n"
     ]
    }
   ],
   "source": [
    "n = 0\n",
    "while n < 5 :\n",
    "    print(n)\n",
    "    n += 1"
   ]
  },
  {
   "cell_type": "code",
   "execution_count": 2,
   "metadata": {},
   "outputs": [
    {
     "name": "stdout",
     "output_type": "stream",
     "text": [
      "0\n",
      "1\n",
      "2\n",
      "3\n",
      "4\n"
     ]
    }
   ],
   "source": [
    "for n in range(5) :\n",
    "    print (n)"
   ]
  },
  {
   "cell_type": "code",
   "execution_count": 5,
   "metadata": {},
   "outputs": [
    {
     "name": "stdout",
     "output_type": "stream",
     "text": [
      "2 4 6 8 Done!\n"
     ]
    }
   ],
   "source": [
    "for i in range(2, 10, 2) :\n",
    "    print(i, end = ' ')\n",
    "print(\"Done!\")"
   ]
  },
  {
   "cell_type": "code",
   "execution_count": 6,
   "metadata": {},
   "outputs": [
    {
     "name": "stdout",
     "output_type": "stream",
     "text": [
      "2 4 6 8 Done!\n"
     ]
    }
   ],
   "source": [
    "n = 2\n",
    "while n < 10:\n",
    "    print(n, end = ' ')\n",
    "    n += 2\n",
    "print(\"Done!\")"
   ]
  },
  {
   "cell_type": "code",
   "execution_count": 10,
   "metadata": {},
   "outputs": [
    {
     "name": "stdout",
     "output_type": "stream",
     "text": [
      "['Real Madrid']\n",
      "['Bayern']\n",
      "['Liverpool']\n",
      "['Juventis']\n"
     ]
    }
   ],
   "source": [
    "teams = ['Real Madrid', 'Bayern', 'Liverpool', 'Juventis']\n",
    "for x in teams:\n",
    "    print([x])"
   ]
  },
  {
   "cell_type": "code",
   "execution_count": 11,
   "metadata": {},
   "outputs": [
    {
     "name": "stdout",
     "output_type": "stream",
     "text": [
      "Real Madrid\n",
      "Bayern\n",
      "Liverpool\n",
      "Juventis\n"
     ]
    }
   ],
   "source": [
    "for x in range(len(teams)) :\n",
    "    print(teams[x])"
   ]
  },
  {
   "cell_type": "code",
   "execution_count": 12,
   "metadata": {},
   "outputs": [
    {
     "name": "stdout",
     "output_type": "stream",
     "text": [
      "15\n"
     ]
    }
   ],
   "source": [
    "numbers = [1, 2, 3, 4, 5]\n",
    "s = 0\n",
    "for number in numbers :\n",
    "    s += number\n",
    "print(s)"
   ]
  },
  {
   "cell_type": "code",
   "execution_count": 13,
   "metadata": {},
   "outputs": [
    {
     "name": "stdout",
     "output_type": "stream",
     "text": [
      "b\n",
      "a\n",
      "n\n",
      "a\n",
      "n\n",
      "a\n"
     ]
    }
   ],
   "source": [
    "for x in 'banana' :\n",
    "    print(x)"
   ]
  },
  {
   "cell_type": "code",
   "execution_count": 17,
   "metadata": {},
   "outputs": [
    {
     "name": "stdout",
     "output_type": "stream",
     "text": [
      "Sum1 = 45\n",
      "Sum2 = 36\n"
     ]
    }
   ],
   "source": [
    "sum1 = 0\n",
    "sum2 = 2\n",
    "for i in range(5, 11, 1) :\n",
    "    sum1 += i\n",
    "    if (i < 7) :\n",
    "        continue\n",
    "    sum2 += i\n",
    "print('Sum1 = ' + str(sum1))\n",
    "print('Sum2 = ' + str(sum2))"
   ]
  },
  {
   "cell_type": "code",
   "execution_count": 19,
   "metadata": {},
   "outputs": [
    {
     "name": "stdout",
     "output_type": "stream",
     "text": [
      "8\n",
      "Sum1 = 26\n",
      "Sum2 = 20\n"
     ]
    }
   ],
   "source": [
    "sum1 = 0\n",
    "sum2 = 2\n",
    "for i in range(5, 11, 1) :\n",
    "    sum1 += i\n",
    "    if (i > 7) :\n",
    "        break\n",
    "    sum2 += i\n",
    "print(i)\n",
    "print('Sum1 = ' + str(sum1))\n",
    "print('Sum2 = ' + str(sum2))"
   ]
  },
  {
   "cell_type": "code",
   "execution_count": 23,
   "metadata": {},
   "outputs": [
    {
     "data": {
      "text/plain": [
       "[[1, 2, 3], [4, 5, 6], [7, 8, 9]]"
      ]
     },
     "execution_count": 23,
     "metadata": {},
     "output_type": "execute_result"
    }
   ],
   "source": [
    "matrix = [[1, 2, 3], [4, 5, 6], [7, 8, 9]]\n",
    "matrix"
   ]
  },
  {
   "cell_type": "code",
   "execution_count": 25,
   "metadata": {},
   "outputs": [
    {
     "name": "stdout",
     "output_type": "stream",
     "text": [
      "1 2 3 \n",
      "\n",
      "4 5 6 \n",
      "\n",
      "7 8 9 \n",
      "\n"
     ]
    }
   ],
   "source": [
    "for row in matrix :\n",
    "    for element in row :\n",
    "        print(element, end = ' ')\n",
    "    print(\"\\n\")"
   ]
  },
  {
   "cell_type": "code",
   "execution_count": 27,
   "metadata": {},
   "outputs": [
    {
     "data": {
      "text/plain": [
       "3"
      ]
     },
     "execution_count": 27,
     "metadata": {},
     "output_type": "execute_result"
    }
   ],
   "source": [
    "len(matrix)"
   ]
  },
  {
   "cell_type": "code",
   "execution_count": 32,
   "metadata": {},
   "outputs": [
    {
     "name": "stdout",
     "output_type": "stream",
     "text": [
      "1 2 3 11 \n",
      "\n",
      "4 5 6 \n",
      "\n",
      "7 8 9 10 \n",
      "\n"
     ]
    }
   ],
   "source": [
    "matrix = [[1, 2, 3, 11], [4, 5, 6], [7, 8, 9, 10]]\n",
    "for i in range(len(matrix)) :\n",
    "    for j in range(len(matrix[i])) :\n",
    "        print(matrix[i][j], end = \" \")\n",
    "    print(\"\\n\")"
   ]
  },
  {
   "cell_type": "code",
   "execution_count": 3,
   "metadata": {},
   "outputs": [
    {
     "name": "stdout",
     "output_type": "stream",
     "text": [
      "Enter a no: 4\n",
      "24\n"
     ]
    }
   ],
   "source": [
    "num = int(input('Enter a no: '))\n",
    "i = 1\n",
    "f = 1\n",
    "while i <= num :\n",
    "    f *= i\n",
    "    i += 1\n",
    "print(f)"
   ]
  },
  {
   "cell_type": "code",
   "execution_count": 5,
   "metadata": {},
   "outputs": [
    {
     "data": {
      "text/plain": [
       "'0b111'"
      ]
     },
     "execution_count": 5,
     "metadata": {},
     "output_type": "execute_result"
    }
   ],
   "source": [
    " bin(7)"
   ]
  },
  {
   "cell_type": "code",
   "execution_count": 7,
   "metadata": {},
   "outputs": [
    {
     "name": "stdout",
     "output_type": "stream",
     "text": [
      "8 and 10 has an average = 9.0\n"
     ]
    }
   ],
   "source": [
    "def average(a, b) :\n",
    "    x = (a + b) / 2\n",
    "    print(f'{a} and {b} has an average = ', end = '')\n",
    "    print(x)\n",
    "    \n",
    "average(8, 10)"
   ]
  },
  {
   "cell_type": "code",
   "execution_count": 9,
   "metadata": {},
   "outputs": [
    {
     "name": "stdout",
     "output_type": "stream",
     "text": [
      "5\n",
      "4\n"
     ]
    }
   ],
   "source": [
    "def findSum(a, b = 4) :\n",
    "    print(a + b)\n",
    "    \n",
    "findSum(1)\n",
    "\n",
    "findSum(1, 3)"
   ]
  },
  {
   "cell_type": "code",
   "execution_count": 14,
   "metadata": {},
   "outputs": [
    {
     "name": "stdout",
     "output_type": "stream",
     "text": [
      "Enter a no: 11\n",
      "1 1 2 3 5 8 13 21 34 55 89 \n",
      "\n",
      "1 1 2 3 5 8 13 21 34 55 89 "
     ]
    }
   ],
   "source": [
    "def fibonacci(n) :\n",
    "    a = 1\n",
    "    b = 1\n",
    "    if n == 1 :\n",
    "        print(a)\n",
    "    elif n == 2 :\n",
    "        print(a, end = ' ')\n",
    "        print(b)\n",
    "    else :\n",
    "        print(a, end = ' ')\n",
    "        print(b, end = ' ')\n",
    "        for i in range(n - 2) :\n",
    "            print(a + b, end = ' ')\n",
    "            b = a + b\n",
    "            a = b - a\n",
    "    print(\"\\n\")\n",
    "            \n",
    "def fibonacci_2(n) :\n",
    "    a = 1\n",
    "    b = 1\n",
    "    for i in range(n) :\n",
    "        print(a, end = ' ')\n",
    "        b = a + b\n",
    "        a = b - a\n",
    "\n",
    "n = int(input('Enter a no: '))\n",
    "fibonacci(n)\n",
    "fibonacci_2(n)"
   ]
  },
  {
   "cell_type": "code",
   "execution_count": null,
   "metadata": {},
   "outputs": [],
   "source": []
  }
 ],
 "metadata": {
  "kernelspec": {
   "display_name": "Python 3",
   "language": "python",
   "name": "python3"
  },
  "language_info": {
   "codemirror_mode": {
    "name": "ipython",
    "version": 3
   },
   "file_extension": ".py",
   "mimetype": "text/x-python",
   "name": "python",
   "nbconvert_exporter": "python",
   "pygments_lexer": "ipython3",
   "version": "3.7.4"
  }
 },
 "nbformat": 4,
 "nbformat_minor": 2
}
