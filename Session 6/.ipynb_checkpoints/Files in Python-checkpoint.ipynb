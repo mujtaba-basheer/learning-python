{
 "cells": [
  {
   "cell_type": "code",
   "execution_count": 4,
   "metadata": {},
   "outputs": [
    {
     "name": "stdout",
     "output_type": "stream",
     "text": [
      "Hello\n",
      "\n",
      "Hello\n",
      "Byte\n",
      "\n",
      "['Hello\\n', 'Byte\\n']\n",
      "Hello\n",
      "\n",
      "Byte\n",
      "\n"
     ]
    }
   ],
   "source": [
    "# File I/O in Python\n",
    "\n",
    "file = open(\"data.txt\", \"w\") # 'w' for Write\n",
    "file.write(\"Hello\\n\")\n",
    "file.close()\n",
    "\n",
    "file = open(\"data.txt\", \"r\") # 'r' for Read\n",
    "print(file.read())\n",
    "file.close()\n",
    "\n",
    "file = open(\"data.txt\", \"a\") # 'a' for append\n",
    "file.write(\"Byte\\n\")\n",
    "file.close()\n",
    "\n",
    "file = open(\"data.txt\", \"r\") # 'r' for Read\n",
    "print(file.read())\n",
    "file.close()\n",
    "\n",
    "file = open(\"data.txt\", \"r\") # 'r' for Read\n",
    "print(file.readlines())\n",
    "file.close()\n",
    "\n",
    "file = open(\"data.txt\", \"r\") # 'r' for Read\n",
    "for line in file:\n",
    "    print(line)\n",
    "file.close()"
   ]
  }
 ],
 "metadata": {
  "kernelspec": {
   "display_name": "Python 3",
   "language": "python",
   "name": "python3"
  },
  "language_info": {
   "codemirror_mode": {
    "name": "ipython",
    "version": 3
   },
   "file_extension": ".py",
   "mimetype": "text/x-python",
   "name": "python",
   "nbconvert_exporter": "python",
   "pygments_lexer": "ipython3",
   "version": "3.6.9"
  }
 },
 "nbformat": 4,
 "nbformat_minor": 2
}
